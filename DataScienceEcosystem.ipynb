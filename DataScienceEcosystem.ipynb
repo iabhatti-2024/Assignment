{
 "cells": [
  {
   "cell_type": "markdown",
   "id": "d35461ee-faa0-430c-86bb-246294216aae",
   "metadata": {},
   "source": [
    "# Data Science Ecosystem"
   ]
  },
  {
   "cell_type": "markdown",
   "id": "db357e47-4b39-428f-9118-b64ad7621048",
   "metadata": {},
   "source": [
    " In this notebook, Data Science Tools and Ecosystem are summarized"
   ]
  },
  {
   "cell_type": "markdown",
   "id": "301c9021-be55-452c-ad5c-7781fb554648",
   "metadata": {},
   "source": [
    "**Objectives:**\n",
    "- Python\n",
    "- R\n",
    "- Java\n",
    "- SQL\n",
    "- C++"
   ]
  },
  {
   "cell_type": "markdown",
   "id": "6887d014-897c-4692-ae5a-abc3a4fbb358",
   "metadata": {},
   "source": [
    "Some of the popular languages that Data Scientists use are:\n",
    "1. Python\n",
    "2. R\n",
    "3. java"
   ]
  },
  {
   "cell_type": "markdown",
   "id": "41f9fe37-dc02-4749-ba0c-c1a64340b7b2",
   "metadata": {},
   "source": [
    "Some of the commonly used libraries used by Data Scientists include:\n",
    "1. Numpy\n",
    "2. Pandas\n",
    "3. Matplotlib\n",
    "4. SciPy"
   ]
  },
  {
   "cell_type": "markdown",
   "id": "70905914-61a7-4a9e-8647-e5c9243bcf9c",
   "metadata": {},
   "source": [
    "|Data Science Tools|\n",
    "--------------------\n",
    "|Jupyter Nootebook|\n",
    "|R Studio|\n",
    "|Python|"
   ]
  },
  {
   "cell_type": "markdown",
   "id": "8e758adb-61f6-450d-99c9-ec76f926c213",
   "metadata": {},
   "source": [
    "### Below are a few examples of evaluating arithmetic expressions in Python"
   ]
  },
  {
   "cell_type": "code",
   "execution_count": 67,
   "id": "cc33dc47-3bd4-4cb1-b2a6-4b5be7357dd9",
   "metadata": {},
   "outputs": [
    {
     "data": {
      "text/plain": [
       "17"
      ]
     },
     "execution_count": 67,
     "metadata": {},
     "output_type": "execute_result"
    }
   ],
   "source": [
    "#This a simple arithmetic expression to mutiply then add integers.\n",
    "(3*4)+5"
   ]
  },
  {
   "cell_type": "code",
   "execution_count": 59,
   "id": "561fe600-3a5d-4a36-80bb-4c55379163d1",
   "metadata": {},
   "outputs": [
    {
     "name": "stdout",
     "output_type": "stream",
     "text": [
      "3.3333333333333335\n"
     ]
    }
   ],
   "source": [
    "#This will convert 200 minutes to hours by diving by 60\n",
    "minutes = 200\n",
    "hour = 60\n",
    "hours = 200/60\n",
    "print(hours)"
   ]
  },
  {
   "cell_type": "markdown",
   "id": "292891ab-7df0-4557-a36e-29c8994e9d4b",
   "metadata": {},
   "source": [
    "## Author\n",
    "Imtiaz Ali Bhatti"
   ]
  },
  {
   "cell_type": "code",
   "execution_count": null,
   "id": "f92b2640-2f81-441f-bfb7-0419d12ad883",
   "metadata": {},
   "outputs": [],
   "source": []
  }
 ],
 "metadata": {
  "kernelspec": {
   "display_name": "Python 3 (ipykernel)",
   "language": "python",
   "name": "python3"
  },
  "language_info": {
   "codemirror_mode": {
    "name": "ipython",
    "version": 3
   },
   "file_extension": ".py",
   "mimetype": "text/x-python",
   "name": "python",
   "nbconvert_exporter": "python",
   "pygments_lexer": "ipython3",
   "version": "3.12.4"
  }
 },
 "nbformat": 4,
 "nbformat_minor": 5
}
